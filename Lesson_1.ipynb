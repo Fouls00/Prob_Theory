{
 "cells": [
  {
   "cell_type": "markdown",
   "id": "7cdddc95",
   "metadata": {},
   "source": [
    "#### Задача 1:  \n",
    "Из колоды в 52 карты извлекаются случайным образом 4 карты. a)\n",
    "Найти вероятность того, что все карты – крести."
   ]
  },
  {
   "cell_type": "code",
   "execution_count": 3,
   "id": "daa3bc72",
   "metadata": {},
   "outputs": [],
   "source": [
    "from math import factorial"
   ]
  },
  {
   "cell_type": "code",
   "execution_count": 4,
   "id": "28ae4a54",
   "metadata": {},
   "outputs": [],
   "source": [
    "def combinations(n, k):\n",
    "    return int(factorial(n) / (factorial(k) * factorial(n - k)))"
   ]
  },
  {
   "cell_type": "code",
   "execution_count": 26,
   "id": "de8502c9",
   "metadata": {},
   "outputs": [
    {
     "data": {
      "text/plain": [
       "715"
      ]
     },
     "execution_count": 26,
     "metadata": {},
     "output_type": "execute_result"
    }
   ],
   "source": [
    "# всего благоприятных исходов\n",
    "P_1 = combinations(13, 4)\n",
    "P_1"
   ]
  },
  {
   "cell_type": "code",
   "execution_count": 27,
   "id": "bff42f24",
   "metadata": {},
   "outputs": [
    {
     "data": {
      "text/plain": [
       "270725"
      ]
     },
     "execution_count": 27,
     "metadata": {},
     "output_type": "execute_result"
    }
   ],
   "source": [
    "# всего исходов\n",
    "P_2 = combinations(52, 4)\n",
    "P_2"
   ]
  },
  {
   "cell_type": "code",
   "execution_count": 28,
   "id": "f85587ee",
   "metadata": {},
   "outputs": [
    {
     "name": "stdout",
     "output_type": "stream",
     "text": [
      "Вероятность того, что из 4 карт, вытащенных из колоды, все крести = 0.264 %\n"
     ]
    }
   ],
   "source": [
    "P = P_1 / P_2 * 100\n",
    "print(f'Вероятность того, что из 4 карт, вытащенных из колоды, все крести = {P :.3f} %')"
   ]
  },
  {
   "cell_type": "markdown",
   "id": "9366bc23",
   "metadata": {},
   "source": [
    "б) Найти вероятность, что среди 4-х карт окажется хотя бы один туз."
   ]
  },
  {
   "cell_type": "code",
   "execution_count": 25,
   "id": "13a1febc",
   "metadata": {},
   "outputs": [
    {
     "name": "stdout",
     "output_type": "stream",
     "text": [
      "Вероятность того, что из 4 карт, вытащенных из колоды, есть хоть один туз = 28.126 %\n"
     ]
    }
   ],
   "source": [
    "# ищем от обратного - какова вероятность не вытащить ни одного туза\n",
    "\n",
    "# всего благоприятных исходов\n",
    "P_1 = combinations(48, 4)\n",
    "# всего исходов\n",
    "P_2 = combinations(52, 4)\n",
    "P = (1 - P_1/P_2) * 100\n",
    "print(f'Вероятность того, что из 4 карт, вытащенных из колоды, есть хоть один туз = {P :.3f} %')"
   ]
  },
  {
   "cell_type": "markdown",
   "id": "c64eec43",
   "metadata": {},
   "source": [
    "#### Задача 2: \n",
    "На входной двери подъезда установлен кодовый замок, содержащий\n",
    "десять кнопок с цифрами от 0 до 9. Код содержит три цифры, которые нужно\n",
    "нажать одновременно. Какова вероятность того, что человек, не знающий код,\n",
    "откроет дверь с первой попытки?"
   ]
  },
  {
   "cell_type": "code",
   "execution_count": 30,
   "id": "866390e1",
   "metadata": {},
   "outputs": [
    {
     "name": "stdout",
     "output_type": "stream",
     "text": [
      "Вероятность того, что человек, не знающий код, откроет дверь с первой попытки = 0.833 %\n"
     ]
    }
   ],
   "source": [
    "# всего благоприятных исходов\n",
    "P_1 = 1\n",
    "# всего исходов\n",
    "P_2 = combinations(10, 3)\n",
    "P = P_1/P_2 * 100\n",
    "print(f'Вероятность того, что человек, не знающий код, откроет дверь с первой попытки = {P :.3f} %')"
   ]
  },
  {
   "cell_type": "markdown",
   "id": "ebf957e8",
   "metadata": {},
   "source": [
    "#### Задача 3: \n",
    "\n",
    "В ящике имеется 15 деталей, из которых 9 окрашены. Рабочий\n",
    "случайным образом извлекает 3 детали. Какова вероятность того, что все\n",
    "извлеченные детали окрашены?"
   ]
  },
  {
   "cell_type": "code",
   "execution_count": 32,
   "id": "fd6d0296",
   "metadata": {},
   "outputs": [
    {
     "name": "stdout",
     "output_type": "stream",
     "text": [
      "Вероятность того, что все извлеченные детали окрашены = 18.462 %\n"
     ]
    }
   ],
   "source": [
    "# всего благоприятных исходов\n",
    "P_1 = combinations(9, 3)\n",
    "# всего исходов\n",
    "P_2 = combinations(15, 3)\n",
    "P = P_1/P_2 * 100\n",
    "print(f'Вероятность того, что все извлеченные детали окрашены = {P :.3f} %')"
   ]
  },
  {
   "cell_type": "markdown",
   "id": "9d79898c",
   "metadata": {},
   "source": [
    "#### Задача 4: \n",
    "    \n",
    "В лотерее 100 билетов. Из них 2 выигрышных. Какова вероятность\n",
    "того, что 2 приобретенных билета окажутся выигрышными?\n"
   ]
  },
  {
   "cell_type": "code",
   "execution_count": 34,
   "id": "f0ed6c9f",
   "metadata": {},
   "outputs": [
    {
     "name": "stdout",
     "output_type": "stream",
     "text": [
      "Вероятность того, что 2 приобретенных билета окажутся выигрышными = 0.020 %\n"
     ]
    }
   ],
   "source": [
    "# всего благоприятных исходов\n",
    "P_1 = 1\n",
    "# всего исходов\n",
    "P_2 = combinations(100, 2)\n",
    "P = P_1/P_2 * 100\n",
    "print(f'Вероятность того, что 2 приобретенных билета окажутся выигрышными = {P :.3f} %')"
   ]
  }
 ],
 "metadata": {
  "kernelspec": {
   "display_name": "Python 3 (ipykernel)",
   "language": "python",
   "name": "python3"
  },
  "language_info": {
   "codemirror_mode": {
    "name": "ipython",
    "version": 3
   },
   "file_extension": ".py",
   "mimetype": "text/x-python",
   "name": "python",
   "nbconvert_exporter": "python",
   "pygments_lexer": "ipython3",
   "version": "3.9.12"
  }
 },
 "nbformat": 4,
 "nbformat_minor": 5
}
