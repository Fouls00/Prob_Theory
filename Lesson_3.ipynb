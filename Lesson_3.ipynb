{
 "cells": [
  {
   "cell_type": "markdown",
   "id": "2e570d61",
   "metadata": {},
   "source": [
    "#### Задание 1.\n",
    "Даны значения зарплат из выборки выпускников: 100, 80, 75, 77, 89, 33, 45,\n",
    "25, 65, 17, 30, 24, 57, 55, 70, 75, 65, 84, 90, 150. Посчитать (желательно без\n",
    "использования статистических методов наподобие std, var, mean) среднее\n",
    "арифметическое, среднее квадратичное отклонение, смещенную и\n",
    "несмещенную оценки дисперсий для данной выборки.\n"
   ]
  },
  {
   "cell_type": "code",
   "execution_count": 31,
   "id": "665b0d05",
   "metadata": {},
   "outputs": [],
   "source": [
    "import numpy as np\n",
    "import pandas as pd\n",
    "import matplotlib.pyplot as plt\n",
    "import warnings\n",
    "warnings.filterwarnings('ignore')\n",
    "from math import factorial"
   ]
  },
  {
   "cell_type": "code",
   "execution_count": 17,
   "id": "c508d579",
   "metadata": {},
   "outputs": [],
   "source": [
    "a = [100, 80, 75, 77, 89, 33, 45, 25, 65, 17, 30, 24, 57, 55, 70, 75, 65, 84, 90, 150]"
   ]
  },
  {
   "cell_type": "code",
   "execution_count": 21,
   "id": "3dde9733",
   "metadata": {},
   "outputs": [
    {
     "data": {
      "text/plain": [
       "65.3"
      ]
     },
     "execution_count": 21,
     "metadata": {},
     "output_type": "execute_result"
    }
   ],
   "source": [
    "# среднее значение\n",
    "j = 0\n",
    "for i in range(len(a)):\n",
    "    j += a[i]\n",
    "a_avg = j / len(a)\n",
    "a_avg"
   ]
  },
  {
   "cell_type": "code",
   "execution_count": 27,
   "id": "2a26a160",
   "metadata": {},
   "outputs": [
    {
     "data": {
      "text/plain": [
       "950.11"
      ]
     },
     "execution_count": 27,
     "metadata": {},
     "output_type": "execute_result"
    }
   ],
   "source": [
    "# среднее квадратичное отклонение (смещённая дисперсия)\n",
    "j = 0\n",
    "for i in range(len(a)):\n",
    "    j += (a[i] - a_avg)**2\n",
    "height_variance1 = j / (len(a))\n",
    "height_variance1"
   ]
  },
  {
   "cell_type": "code",
   "execution_count": 26,
   "id": "7c524bb6",
   "metadata": {},
   "outputs": [
    {
     "data": {
      "text/plain": [
       "30.823854398825596"
      ]
     },
     "execution_count": 26,
     "metadata": {},
     "output_type": "execute_result"
    }
   ],
   "source": [
    "# среднее квадратичное отклонение\n",
    "height_std = height_variance**0.5\n",
    "height_std"
   ]
  },
  {
   "cell_type": "code",
   "execution_count": 28,
   "id": "665410d1",
   "metadata": {},
   "outputs": [
    {
     "data": {
      "text/plain": [
       "1000.1157894736842"
      ]
     },
     "execution_count": 28,
     "metadata": {},
     "output_type": "execute_result"
    }
   ],
   "source": [
    "# среднее квадратичное отклонение (несмещённая дисперсия)\n",
    "j = 0\n",
    "for i in range(len(a)):\n",
    "    j += (a[i] - a_avg)**2\n",
    "height_variance2 = j / (len(a)-1)\n",
    "height_variance2"
   ]
  },
  {
   "cell_type": "markdown",
   "id": "9486aff6",
   "metadata": {},
   "source": [
    "#### Задание 2.\n",
    "В первом ящике находится 8 мячей, из которых 5 - белые. Во втором ящике - 12 мячей, из которых 5 белых. Из первого ящика вытаскивают случайным образом два мяча, из второго - 4. Какова вероятность того, что 3 мяча белые?"
   ]
  },
  {
   "cell_type": "code",
   "execution_count": 29,
   "id": "dfba5c25",
   "metadata": {},
   "outputs": [],
   "source": [
    "def combinations(n, k):\n",
    "    return int(factorial(n) / (factorial(k) * factorial(n - k)))"
   ]
  },
  {
   "cell_type": "code",
   "execution_count": 32,
   "id": "01e13a01",
   "metadata": {},
   "outputs": [
    {
     "data": {
      "text/plain": [
       "36.868686868686865"
      ]
     },
     "execution_count": 32,
     "metadata": {},
     "output_type": "execute_result"
    }
   ],
   "source": [
    "P =( combinations(5, 2) * combinations(3, 0) / combinations(8, 2) * combinations(5, 1) * combinations(7, 3) / combinations(12, 4) + combinations(5, 1) * combinations(3, 1) / combinations(8, 2) * combinations(5, 2) * combinations(7, 2) / combinations(12, 4) + combinations(5, 0) * combinations(3, 2) / combinations(8, 2) * combinations(5, 3) * combinations(7, 1) / combinations(12, 4) )* 100\n",
    "P"
   ]
  },
  {
   "cell_type": "markdown",
   "id": "5d733079",
   "metadata": {},
   "source": [
    "#### Задание 3.\n",
    "В университет на факультеты A и B поступило равное количество студентов, а на факультет C студентов поступило столько же, сколько на A и B вместе. Вероятность того, что студент факультета A сдаст первую сессию, равна 0.8. Для студента факультета B эта вероятность равна 0.7, а для студента факультета C - 0.9. Студент сдал первую сессию. Какова вероятность, что он учится: a). на факультете A б). на факультете B в). на факультете C?"
   ]
  },
  {
   "cell_type": "code",
   "execution_count": 33,
   "id": "df4055bc",
   "metadata": {},
   "outputs": [
    {
     "data": {
      "text/plain": [
       "0.825"
      ]
     },
     "execution_count": 33,
     "metadata": {},
     "output_type": "execute_result"
    }
   ],
   "source": [
    "A = 1/4 * 0.8 + 1/4 * 0.7 + 1/2 * 0.9\n",
    "A"
   ]
  },
  {
   "cell_type": "code",
   "execution_count": 37,
   "id": "317fa5ed",
   "metadata": {},
   "outputs": [
    {
     "data": {
      "text/plain": [
       "24.242424242424246"
      ]
     },
     "execution_count": 37,
     "metadata": {},
     "output_type": "execute_result"
    }
   ],
   "source": [
    "# а) На факультете А (в %)\n",
    "(1/4 * 0.8) / A * 100"
   ]
  },
  {
   "cell_type": "code",
   "execution_count": 38,
   "id": "06325e4e",
   "metadata": {},
   "outputs": [
    {
     "data": {
      "text/plain": [
       "21.21212121212121"
      ]
     },
     "execution_count": 38,
     "metadata": {},
     "output_type": "execute_result"
    }
   ],
   "source": [
    "# б) На факультете B (в %)\n",
    "(1/4 * 0.7) / A * 100"
   ]
  },
  {
   "cell_type": "code",
   "execution_count": 40,
   "id": "088f1071",
   "metadata": {},
   "outputs": [
    {
     "data": {
      "text/plain": [
       "54.545454545454554"
      ]
     },
     "execution_count": 40,
     "metadata": {},
     "output_type": "execute_result"
    }
   ],
   "source": [
    "# в) На факультете C (в %)\n",
    "(1/2 * 0.9) / A * 100"
   ]
  },
  {
   "cell_type": "markdown",
   "id": "dbf2a3d5",
   "metadata": {},
   "source": [
    "#### Задание 4.\n",
    "Устройство состоит из трех деталей. Для первой детали вероятность выйти из строя в первый месяц равна 0.1, для второй - 0.2, для третьей - 0.25. Какова вероятность того, что в первый месяц выйдут из строя: а). все детали б). только две детали в). хотя бы одна деталь г). от одной до двух деталей?"
   ]
  },
  {
   "cell_type": "code",
   "execution_count": 47,
   "id": "a29ca87b",
   "metadata": {},
   "outputs": [],
   "source": [
    "p_1 = 0.1\n",
    "p_2 = 0.2\n",
    "p_3 = 0.25"
   ]
  },
  {
   "cell_type": "code",
   "execution_count": 48,
   "id": "291caa9c",
   "metadata": {},
   "outputs": [
    {
     "data": {
      "text/plain": [
       "0.5000000000000001"
      ]
     },
     "execution_count": 48,
     "metadata": {},
     "output_type": "execute_result"
    }
   ],
   "source": [
    "# а) все детали (в %)\n",
    "P_a = p_1 * p_2 * p_3 * 100\n",
    "P_a"
   ]
  },
  {
   "cell_type": "code",
   "execution_count": 53,
   "id": "0e91a628",
   "metadata": {},
   "outputs": [
    {
     "data": {
      "text/plain": [
       "8.000000000000002"
      ]
     },
     "execution_count": 53,
     "metadata": {},
     "output_type": "execute_result"
    }
   ],
   "source": [
    "# б) только две детали (в %)\n",
    "P_b = (p_1 * p_2 * (1 - p_3) + p_1 * (1 - p_2) * p_3 + (1 - p_1) * p_2 * p_3) * 100\n",
    "P_b"
   ]
  },
  {
   "cell_type": "code",
   "execution_count": 52,
   "id": "4e7116f0",
   "metadata": {},
   "outputs": [
    {
     "data": {
      "text/plain": [
       "46.0"
      ]
     },
     "execution_count": 52,
     "metadata": {},
     "output_type": "execute_result"
    }
   ],
   "source": [
    "# в) хотя бы одна деталь (в %)\n",
    "P_c = (1 - (1-p_1)*(1-p_2)*(1-p_3)) * 100\n",
    "P_c"
   ]
  },
  {
   "cell_type": "code",
   "execution_count": 54,
   "id": "2a8dd9c6",
   "metadata": {},
   "outputs": [
    {
     "data": {
      "text/plain": [
       "45.5"
      ]
     },
     "execution_count": 54,
     "metadata": {},
     "output_type": "execute_result"
    }
   ],
   "source": [
    "# г) от одной до двух деталей (в %)\n",
    "P_d = (p_1 * (1 - p_2) * (1 - p_3) + (1 - p_1) * p_2 * (1 - p_3) + (1 - p_1) * (1 - p_2) * p_3 + p_1 * p_2 * (1 - p_3) + p_1 * (1 - p_2) * p_3 + (1 - p_1) * p_2 * p_3) * 100\n",
    "P_d"
   ]
  }
 ],
 "metadata": {
  "kernelspec": {
   "display_name": "Python 3 (ipykernel)",
   "language": "python",
   "name": "python3"
  },
  "language_info": {
   "codemirror_mode": {
    "name": "ipython",
    "version": 3
   },
   "file_extension": ".py",
   "mimetype": "text/x-python",
   "name": "python",
   "nbconvert_exporter": "python",
   "pygments_lexer": "ipython3",
   "version": "3.9.12"
  }
 },
 "nbformat": 4,
 "nbformat_minor": 5
}
